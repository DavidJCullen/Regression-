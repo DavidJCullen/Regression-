{
 "cells": [
  {
   "cell_type": "markdown",
   "metadata": {},
   "source": [
    "# Regression "
   ]
  },
  {
   "cell_type": "code",
   "execution_count": 28,
   "metadata": {},
   "outputs": [],
   "source": [
    "import numpy as np \n",
    "import matplotlib.pyplot as plt"
   ]
  },
  {
   "cell_type": "code",
   "execution_count": 29,
   "metadata": {},
   "outputs": [],
   "source": [
    "x=np.array([1,2,3,5,7,8,2.5,8])\n",
    "\n",
    "y=np.array([2.2,3.5,3.9,2.9,5,6.2,3,4.8])\n",
    "\n",
    "#stack column\n",
    "X=np.column_stack([np.ones(x.shape),x])\n",
    "\n",
    "#rGet the best squares model for each coefficiant\n",
    "XTX=np.dot(X.T,X)\n",
    "XTX_inv= np.linalg.inv(XTX)\n",
    "XTXinvXTX=np.dot(XTX_inv,X.T)"
   ]
  },
  {
   "cell_type": "markdown",
   "metadata": {},
   "source": [
    "Step 1:  $X^TX$\n",
    "\n",
    "Step 2: $(X^TX)^{-1}$\n",
    "\n",
    "Step 3: $(X^TX)^{-1}X^T$"
   ]
  },
  {
   "cell_type": "code",
   "execution_count": 30,
   "metadata": {},
   "outputs": [
    {
     "name": "stdout",
     "output_type": "stream",
     "text": [
      "The design matrix is \n",
      " [[ 0.4167134   0.33482894  0.25294448  0.08917555 -0.07459338 -0.15647785\n",
      "   0.29388671 -0.15647785]\n",
      " [-0.06393718 -0.0459899  -0.02804262  0.00785193  0.04374649  0.06169377\n",
      "  -0.03701626  0.06169377]]\n"
     ]
    }
   ],
   "source": [
    "print(f'The design matrix is \\n',XTXinvXTX)"
   ]
  },
  {
   "cell_type": "code",
   "execution_count": 31,
   "metadata": {},
   "outputs": [],
   "source": [
    "w = np.dot(XTXinvXTX, y)"
   ]
  },
  {
   "cell_type": "code",
   "execution_count": 32,
   "metadata": {},
   "outputs": [],
   "source": [
    "order=1"
   ]
  },
  {
   "cell_type": "code",
   "execution_count": 33,
   "metadata": {},
   "outputs": [],
   "source": [
    "wv2 = np.polyfit(x, y,order)"
   ]
  },
  {
   "cell_type": "code",
   "execution_count": 34,
   "metadata": {},
   "outputs": [
    {
     "data": {
      "text/plain": [
       "array([0.3980931 , 2.12120022])"
      ]
     },
     "execution_count": 34,
     "metadata": {},
     "output_type": "execute_result"
    }
   ],
   "source": [
    "wv2"
   ]
  },
  {
   "cell_type": "code",
   "execution_count": 35,
   "metadata": {},
   "outputs": [
    {
     "name": "stdout",
     "output_type": "stream",
     "text": [
      "The predictors are: \n",
      " Y-intercept: 2.1212002243409973\n",
      " Slope: 0.3980931015143019\n"
     ]
    }
   ],
   "source": [
    "print(f'The predictors are: \\n Y-intercept: {w[0]}\\n Slope: {w[1]}')"
   ]
  },
  {
   "cell_type": "code",
   "execution_count": 36,
   "metadata": {},
   "outputs": [
    {
     "data": {
      "image/png": "[encoded data removed]",
      "text/plain": [
       "<Figure size 432x288 with 1 Axes>"
      ]
     },
     "metadata": {
      "needs_background": "light"
     },
     "output_type": "display_data"
    }
   ],
   "source": [
    "plt.plot(x, y, 'o', label=\"Training Data\")\n",
    "plt.xlabel(\"x (attribute)\", fontsize=18)\n",
    "plt.ylabel(\"y (label)\", fontsize=18)\n",
    "plt.xlim(0,10)\n",
    "plt.ylim(0,10)\n",
    "plt.grid(alpha=0.2)\n",
    "plt.legend(fontsize=12)\n",
    "plt.show()"
   ]
  },
  {
   "cell_type": "code",
   "execution_count": null,
   "metadata": {},
   "outputs": [],
   "source": []
  },
  {
   "cell_type": "code",
   "execution_count": 38,
   "metadata": {},
   "outputs": [
    {
     "data": {
      "image/png": "[encoded data removed]",
      "text/plain": [
       "<Figure size 432x288 with 1 Axes>"
      ]
     },
     "metadata": {
      "needs_background": "light"
     },
     "output_type": "display_data"
    }
   ],
   "source": [
    "x_LS = np.linspace(0,10,100)\n",
    "X_LS = np.column_stack([np.ones(x_LS.shape), x_LS])\n",
    "y_LS = np.dot(X_LS, w)\n",
    "\n",
    "\n",
    "plt.plot(x, y, 'o', label=\"Dataset\")\n",
    "plt.plot(x_LS, y_LS, label=\"Linear prediction\")\n",
    "plt.xlabel(\"x (attribute)\", fontsize=18)\n",
    "plt.ylabel(\"y (label)\", fontsize=18)\n",
    "plt.xlim(0,10)\n",
    "plt.ylim(0,10)\n",
    "plt.grid(alpha=0.2)\n",
    "plt.legend(fontsize=12)\n",
    "plt.show()"
   ]
  },
  {
   "cell_type": "markdown",
   "metadata": {},
   "source": [
    "Lineat Regression Quadratic Model "
   ]
  },
  {
   "cell_type": "code",
   "execution_count": 39,
   "metadata": {},
   "outputs": [],
   "source": [
    "X=np.column_stack([np.ones(x.shape),x,x**2])"
   ]
  },
  {
   "cell_type": "code",
   "execution_count": 40,
   "metadata": {},
   "outputs": [
    {
     "name": "stdout",
     "output_type": "stream",
     "text": [
      "The design matrix is \n",
      " [[ 1.16886088  0.39595638 -0.16449157 -0.64801775 -0.28171768  0.2201172\n",
      "   0.08917533  0.2201172 ]\n",
      " [-0.52264456 -0.0832693   0.22653643  0.45743931  0.17006407 -0.16797784\n",
      "   0.08782975 -0.16797784]\n",
      " [ 0.04825935  0.00392206 -0.02678356 -0.04729985 -0.01328953  0.02416312\n",
      "  -0.01313471  0.02416312]]\n"
     ]
    }
   ],
   "source": [
    "#Get the best squares model for each coefficiant\n",
    "XTX=np.dot(X.T,X)\n",
    "XTX_inv= np.linalg.inv(XTX)\n",
    "XTXinvXTX=np.dot(XTX_inv,X.T)\n",
    "\n",
    "print(f'The design matrix is \\n',XTXinvXTX)\n",
    "\n",
    "\n",
    "w=np.dot(XTXinvXTX,y)\n"
   ]
  },
  {
   "cell_type": "code",
   "execution_count": 41,
   "metadata": {},
   "outputs": [
    {
     "name": "stdout",
     "output_type": "stream",
     "text": [
      "The predictors are: \n",
      " Y-intercept: 2.7167995045814646\n",
      " Slope: 0.034858771316173986\n"
     ]
    }
   ],
   "source": [
    "print(f'The predictors are: \\n Y-intercept: {w[0]}\\n Slope: {w[1]}')\n"
   ]
  },
  {
   "cell_type": "code",
   "execution_count": 42,
   "metadata": {},
   "outputs": [
    {
     "data": {
      "image/png": "[encoded data removed]",
      "text/plain": [
       "<Figure size 432x288 with 1 Axes>"
      ]
     },
     "metadata": {
      "needs_background": "light"
     },
     "output_type": "display_data"
    }
   ],
   "source": [
    "X_LS = np.column_stack([np.ones(x_LS.shape), x_LS, x_LS**2])\n",
    "x_LS = np.linspace(0,10,100)\n",
    "y_LS = np.dot(X_LS, w)\n",
    "\n",
    "plt.plot(x, y, 'o', label=\"Dataset\")\n",
    "plt.plot(x_LS, y_LS, label=\"Quadratic prediction\")\n",
    "plt.xlabel(\"x (attribute)\", fontsize=18)\n",
    "plt.ylabel(\"y (label)\", fontsize=18)\n",
    "plt.xlim(0,10)\n",
    "plt.ylim(0,10)\n",
    "plt.grid(alpha=0.2)\n",
    "plt.legend(fontsize=12)\n",
    "plt.show()"
   ]
  },
  {
   "cell_type": "code",
   "execution_count": 43,
   "metadata": {},
   "outputs": [
    {
     "data": {
      "text/plain": [
       "array([0.03821489, 0.03485877, 2.7167995 ])"
      ]
     },
     "execution_count": 43,
     "metadata": {},
     "output_type": "execute_result"
    }
   ],
   "source": [
    "order=2\n",
    "wv3 = np.polyfit(x, y,order)\n",
    "wv3"
   ]
  },
  {
   "cell_type": "code",
   "execution_count": 47,
   "metadata": {},
   "outputs": [
    {
     "name": "stdout",
     "output_type": "stream",
     "text": [
      "The design matrix is:\n",
      " [[  1.      1.      1.      1.   ]\n",
      " [  1.      2.      4.      8.   ]\n",
      " [  1.      3.      9.     27.   ]\n",
      " [  1.      5.     25.    125.   ]\n",
      " [  1.      7.     49.    343.   ]\n",
      " [  1.      8.     64.    512.   ]\n",
      " [  1.      2.5     6.25   15.625]\n",
      " [  1.      8.     64.    512.   ]]\n",
      "The 4 parameters of the least squares cubic solution are\n",
      " [ 0.84346828  1.95172897 -0.4743834   0.03818664]\n"
     ]
    },
    {
     "data": {
      "image/png": "[encoded data removed]",
      "text/plain": [
       "<Figure size 432x288 with 1 Axes>"
      ]
     },
     "metadata": {
      "needs_background": "light"
     },
     "output_type": "display_data"
    }
   ],
   "source": [
    "X = np.column_stack([np.ones(x.shape), x, x**2, x**3]) # Note we are including powers up to 3, the cube of the predictors\n",
    "print(\"The design matrix is:\\n\", X)\n",
    "\n",
    "XTX = np.dot(X.T, X)\n",
    "XTX_inv = np.linalg.inv(XTX)\n",
    "XTX_invXT = np.dot(XTX_inv, X.T)\n",
    "\n",
    "w = np.dot(XTX_invXT, y)\n",
    "\n",
    "print(f\"The 4 parameters of the least squares cubic solution are\\n\", w)\n",
    "\n",
    "\n",
    "X_LS = np.column_stack([np.ones(x_LS.shape), x_LS, x_LS**2, x_LS**3])\n",
    "\n",
    "y_LS = np.dot(X_LS, w)\n",
    "plt.plot(x, y, 'o', label=\"Dataset\")\n",
    "plt.plot(x_LS, y_LS, label=\"Cubic prediction\")\n",
    "plt.xlabel(\"x (attribute)\", fontsize=18)\n",
    "plt.ylabel(\"y (label)\", fontsize=18)\n",
    "plt.xlim(0,12)\n",
    "plt.ylim(-5,20)\n",
    "plt.grid(alpha=0.2)\n",
    "plt.legend(fontsize=12)\n",
    "plt.show()"
   ]
  },
  {
   "cell_type": "code",
   "execution_count": 48,
   "metadata": {},
   "outputs": [
    {
     "name": "stdout",
     "output_type": "stream",
     "text": [
      "The value of x = 10 is 11.109061334895785\n"
     ]
    }
   ],
   "source": [
    "print(f'The value of x = 10 is', np.interp(10,x_LS,y_LS,))"
   ]
  },
  {
   "cell_type": "code",
   "execution_count": null,
   "metadata": {},
   "outputs": [],
   "source": []
  }
 ],
 "metadata": {
  "kernelspec": {
   "display_name": "Python 3 (ipykernel)",
   "language": "python",
   "name": "python3"
  },
  "language_info": {
   "codemirror_mode": {
    "name": "ipython",
    "version": 3
   },
   "file_extension": ".py",
   "mimetype": "text/x-python",
   "name": "python",
   "nbconvert_exporter": "python",
   "pygments_lexer": "ipython3",
   "version": "3.9.7"
  }
 },
 "nbformat": 4,
 "nbformat_minor": 4
}
